{
 "cells": [
  {
   "cell_type": "markdown",
   "id": "e953b158",
   "metadata": {},
   "source": [
    "# Development notes - EnergyPlus Schema "
   ]
  },
  {
   "cell_type": "markdown",
   "id": "f3a6d4e2",
   "metadata": {},
   "source": [
    "Running Documentation on the work on accessing EnergyPlus Schema from EPJ"
   ]
  },
  {
   "cell_type": "code",
   "execution_count": 2,
   "id": "d862f931",
   "metadata": {},
   "outputs": [],
   "source": [
    "# if you have not done so, uncomment the following three lines\n",
    "import sys\n",
    "# pathnameto_eppy = 'c:/eppy3000'\n",
    "pathnameto_eppy3000 = '../'\n",
    "sys.path.append(pathnameto_eppy3000)\n"
   ]
  },
  {
   "cell_type": "code",
   "execution_count": 3,
   "id": "5dedc57a",
   "metadata": {},
   "outputs": [],
   "source": [
    "# code from ../temp_Accessing_IDD.py\n",
    "\"\"\"Recreate the steps in the online docs:\n",
    "\n",
    "https://eppy3000.readthedocs.io/en/latest/usage.html#Accessing-the-IDD\n",
    "\n",
    "using schema from dbm\"\"\"\n",
    "\n",
    "from eppy3000.modelmaker import EPJ\n",
    "\n",
    "epschemaname = \"/Applications/EnergyPlus-9-6-0/Energy+.schema.epJSON\"\n",
    "fname = \"../eppy3000/resources/snippets/V9_6/1ZoneDataCenterCRAC_wPumpedDXCoolingCoil.epJSON\"\n",
    "schemadbmname = \"../../EplusSchema/schema\"\n",
    "epj = EPJ(epjname=fname, epschemaname=epschemaname, schemadbmname=schemadbmname, dbm_cache=True)\n",
    "\n"
   ]
  },
  {
   "cell_type": "markdown",
   "id": "48361b41",
   "metadata": {},
   "source": [
    "### dbm from new EPJ"
   ]
  },
  {
   "cell_type": "code",
   "execution_count": 5,
   "id": "bdfbbcdf",
   "metadata": {},
   "outputs": [
    {
     "name": "stdout",
     "output_type": "stream",
     "text": [
      "\n",
      "key='9.6' - epj.alldbms[key].keys()=dict_keys([])\n"
     ]
    }
   ],
   "source": [
    "print()\n",
    "for key in epj.alldbms.keys():\n",
    "    print(f\"{key=} - {epj.alldbms[key].keys()=}\")\n"
   ]
  },
  {
   "cell_type": "code",
   "execution_count": 8,
   "id": "5162dc58",
   "metadata": {},
   "outputs": [
    {
     "name": "stdout",
     "output_type": "stream",
     "text": [
      "\n",
      "AirLoopHVAC                              !-  EP_KEY         # use .eppykey\n",
      "    CRAC system                      !-  EPJOBJECT_NAME # use .eppyname\n",
      "                                         !-  controller_list_name\n",
      "    CRAC 1 Availability List             !-  availability_manager_list_name\n",
      "    8.5                                  !-  design_supply_air_flow_rate\n",
      "    Air Loop Branches                    !-  branch_list_name\n",
      "                                         !-  connector_list_name\n",
      "    Supply Inlet Node                    !-  supply_side_inlet_node_name\n",
      "    Zone Equipment Outlet Node           !-  demand_side_outlet_node_name\n",
      "    Zone Equipment Inlet Node            !-  demand_side_inlet_node_names\n",
      "    Supply Outlet Node                   !-  supply_side_outlet_node_names\n",
      "    36                                   !-  idf_order\n"
     ]
    }
   ],
   "source": [
    "aloops =  epj.epobjects['AirLoopHVAC']\n",
    "aloop =  aloops[0]\n",
    "print(aloop)\n"
   ]
  },
  {
   "cell_type": "code",
   "execution_count": 9,
   "id": "8bb04d61",
   "metadata": {
    "scrolled": true
   },
   "outputs": [
    {
     "name": "stdout",
     "output_type": "stream",
     "text": [
      "['controller_list_name', 'availability_manager_list_name', 'design_supply_air_flow_rate', 'branch_list_name', 'connector_list_name', 'supply_side_inlet_node_name', 'demand_side_outlet_node_name', 'demand_side_inlet_node_names', 'supply_side_outlet_node_names', 'design_return_air_flow_fraction_of_supply_air_flow']\n"
     ]
    }
   ],
   "source": [
    "fieldnames = epj.epschema.epschemaobjects['AirLoopHVAC'].fieldnames()\n",
    "print(fieldnames)"
   ]
  },
  {
   "cell_type": "markdown",
   "id": "528c5412",
   "metadata": {},
   "source": [
    "### dbm after looking at schema fieldnames of `AirLoopHVAC`"
   ]
  },
  {
   "cell_type": "code",
   "execution_count": 10,
   "id": "f9d04f86",
   "metadata": {},
   "outputs": [
    {
     "name": "stdout",
     "output_type": "stream",
     "text": [
      "['controller_list_name', 'availability_manager_list_name', 'design_supply_air_flow_rate', 'branch_list_name', 'connector_list_name', 'supply_side_inlet_node_name', 'demand_side_outlet_node_name', 'demand_side_inlet_node_names', 'supply_side_outlet_node_names', 'design_return_air_flow_fraction_of_supply_air_flow']\n",
      "\n",
      "key='9.6' - epj.alldbms[key].keys()=dict_keys(['AirLoopHVAC'])\n"
     ]
    }
   ],
   "source": [
    "fieldnames = aloop.dbmfieldnames()\n",
    "print(fieldnames)\n",
    "print()\n",
    "for key in epj.alldbms.keys():\n",
    "    print(f\"{key=} - {epj.alldbms[key].keys()=}\")\n"
   ]
  },
  {
   "cell_type": "code",
   "execution_count": 11,
   "id": "dcb558e4",
   "metadata": {},
   "outputs": [
    {
     "name": "stdout",
     "output_type": "stream",
     "text": [
      "{'type': 'string', 'note': 'Name of a BranchList containing all the branches in this air loop', 'data_type': 'object_list', 'object_list': ['BranchLists']}\n"
     ]
    }
   ],
   "source": [
    "fieldprop = aloop.dbmfieldproperty(\"branch_list_name\")\n",
    "print(fieldprop)"
   ]
  },
  {
   "cell_type": "markdown",
   "id": "318480e9",
   "metadata": {},
   "source": [
    "### dbm after looking at schema fieldnames of `AirLoopHVAC` and `Zone`"
   ]
  },
  {
   "cell_type": "code",
   "execution_count": 12,
   "id": "18189690",
   "metadata": {},
   "outputs": [
    {
     "name": "stdout",
     "output_type": "stream",
     "text": [
      "['direction_of_relative_north', 'x_origin', 'y_origin', 'z_origin', 'type', 'multiplier', 'ceiling_height', 'volume', 'floor_area', 'zone_inside_convection_algorithm', 'zone_outside_convection_algorithm', 'part_of_total_floor_area']\n",
      "{'type': 'number', 'units': 'deg', 'default': 0.0}\n",
      "\n",
      "key='9.6' - epj.alldbms[key].keys()=dict_keys(['AirLoopHVAC', 'Zone'])\n"
     ]
    }
   ],
   "source": [
    "zone = epj.epobjects[\"Zone\"][0]\n",
    "fieldnames = zone.dbmfieldnames()\n",
    "print(fieldnames)\n",
    "fieldprop = zone.dbmfieldproperty(\"direction_of_relative_north\")\n",
    "print(fieldprop)\n",
    "print()\n",
    "for key in epj.alldbms.keys():\n",
    "    print(f\"{key=} - {epj.alldbms[key].keys()=}\")\n",
    "\n"
   ]
  },
  {
   "cell_type": "markdown",
   "id": "c2accf4a",
   "metadata": {},
   "source": [
    "### dbm after opening a version 22.1 file"
   ]
  },
  {
   "cell_type": "code",
   "execution_count": 16,
   "id": "2ca52e02",
   "metadata": {},
   "outputs": [
    {
     "name": "stdout",
     "output_type": "stream",
     "text": [
      "\n",
      "key='9.6' - epj.alldbms[key].keys()=dict_keys(['AirLoopHVAC', 'Zone'])\n",
      "key='22.1' - epj.alldbms[key].keys()=dict_keys([])\n",
      "\n",
      "key='9.6' - epj1.alldbms[key].keys()=dict_keys(['AirLoopHVAC', 'Zone'])\n",
      "key='22.1' - epj1.alldbms[key].keys()=dict_keys([])\n"
     ]
    }
   ],
   "source": [
    "fname1 = \"../eppy3000/resources/snippets/V22_1/Minimal.epJSON\"\n",
    "schemadbmname1 = \"../../AllEplusDBM/22.1/schema\"\n",
    "epj1 = EPJ(epjname=fname1, epschemaname=epschemaname, schemadbmname=schemadbmname1, dbm_cache=True)\n",
    "\n",
    "print()\n",
    "for key in epj.alldbms.keys():\n",
    "    print(f\"{key=} - {epj.alldbms[key].keys()=}\")\n",
    "print()\n",
    "for key in epj1.alldbms.keys():\n",
    "    print(f\"{key=} - {epj1.alldbms[key].keys()=}\")"
   ]
  },
  {
   "cell_type": "markdown",
   "id": "04706e19",
   "metadata": {},
   "source": [
    "### Conclusion"
   ]
  },
  {
   "cell_type": "markdown",
   "id": "47b33165",
   "metadata": {},
   "source": [
    "The print statements indicate:\n",
    "\n",
    "- dbm cache in EPJ.alldbms is working\n",
    "- `epj` and `epj1` share the same EPJ.alldbms"
   ]
  },
  {
   "cell_type": "code",
   "execution_count": null,
   "id": "56fc3e65",
   "metadata": {},
   "outputs": [],
   "source": []
  }
 ],
 "metadata": {
  "kernelspec": {
   "display_name": "Python 3 (ipykernel)",
   "language": "python",
   "name": "python3"
  },
  "language_info": {
   "codemirror_mode": {
    "name": "ipython",
    "version": 3
   },
   "file_extension": ".py",
   "mimetype": "text/x-python",
   "name": "python",
   "nbconvert_exporter": "python",
   "pygments_lexer": "ipython3",
   "version": "3.10.8"
  }
 },
 "nbformat": 4,
 "nbformat_minor": 5
}
