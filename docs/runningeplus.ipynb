{
 "cells": [
  {
   "cell_type": "markdown",
   "metadata": {},
   "source": [
    "# Running EnergyPlus from eppy3000"
   ]
  },
  {
   "cell_type": "markdown",
   "metadata": {},
   "source": [
    "**Author(s):** Santosh Philip"
   ]
  },
  {
   "cell_type": "markdown",
   "metadata": {},
   "source": [
    "This is a bit of a hack. Internally it uses `eppy` to run the simulation. \n",
    "\n",
    "Hey !  It works."
   ]
  },
  {
   "cell_type": "code",
   "execution_count": 4,
   "metadata": {},
   "outputs": [],
   "source": [
    "# you would normaly install eppy3000 by doing\n",
    "# python setup.py install\n",
    "# or\n",
    "# pip install eppy3000\n",
    "# or\n",
    "# easy_install eppy3000\n",
    "\n",
    "import sys\n",
    "# pathnameto_eppy = 'c:/eppy3000'\n",
    "pathnameto_eppy3000 = '../'\n",
    "sys.path.append(pathnameto_eppy3000)"
   ]
  },
  {
   "cell_type": "code",
   "execution_count": 5,
   "metadata": {},
   "outputs": [
    {
     "name": "stdout",
     "output_type": "stream",
     "text": [
      "\r\n",
      "/Applications/EnergyPlus-9-3-0/energyplus --weather /Users/santoshphilip/Documents/coolshadow/github/eppy3000/eppy3000/resources/weatherfiles/USA_CA_San.Francisco.Intl.AP.724940_TMY3.epw --output-directory /Users/santoshphilip/Documents/coolshadow/github/eppy3000/docs --idd /Applications/EnergyPlus-9-3-0/Energy+.idd /Users/santoshphilip/Documents/coolshadow/github/eppy3000/docs/in.idf\r\n",
      "\n"
     ]
    }
   ],
   "source": [
    "from eppy3000.modelmaker import EPJ\n",
    "\n",
    "\n",
    "fname = \"../eppy3000/resources/snippets/V9_3/Minimal.epJSON\"\n",
    "wfile = \"../eppy3000/resources/weatherfiles/USA_CA_San.Francisco.Intl.AP.724940_TMY3.epw\"\n",
    "epschema = \"../eppy3000/resources/schema/V9_3/Energy+.schema.epJSON\"\n",
    "epj = EPJ(fname, epw=wfile, epschemaname=epschema)\n",
    "# Note; the epj.run() will work only if epw and epschemaname have values\n",
    "epj.run()"
   ]
  }
 ],
 "metadata": {
  "kernelspec": {
   "display_name": "Python 3",
   "language": "python",
   "name": "python3"
  },
  "language_info": {
   "codemirror_mode": {
    "name": "ipython",
    "version": 3
   },
   "file_extension": ".py",
   "mimetype": "text/x-python",
   "name": "python",
   "nbconvert_exporter": "python",
   "pygments_lexer": "ipython3",
   "version": "3.7.4"
  }
 },
 "nbformat": 4,
 "nbformat_minor": 4
}
